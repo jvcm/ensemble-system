{
 "cells": [
  {
   "cell_type": "code",
   "execution_count": 1,
   "metadata": {},
   "outputs": [
    {
     "name": "stderr",
     "output_type": "stream",
     "text": [
      "/home/CIN/jvcm/mcsenv/lib/python3.6/site-packages/sklearn/ensemble/weight_boosting.py:29: DeprecationWarning: numpy.core.umath_tests is an internal NumPy module and should not be imported. It will be removed in a future NumPy release.\n",
      "  from numpy.core.umath_tests import inner1d\n"
     ]
    }
   ],
   "source": [
    "import numpy as np\n",
    "import pandas as pd\n",
    "import matplotlib.pyplot as plt\n",
    "import seaborn as sns\n",
    "sns.set()\n",
    "\n",
    "from matplotlib.pylab import rcParams\n",
    "from sklearn.preprocessing import StandardScaler\n",
    "from collections import Counter\n",
    "from imblearn.over_sampling import SMOTE\n",
    "from sklearn.model_selection import StratifiedKFold\n",
    "from sklearn.ensemble import BaggingClassifier\n",
    "from sklearn.linear_model import Perceptron\n",
    "from sklearn.metrics import cohen_kappa_score\n",
    "from itertools import combinations\n",
    "from sklearn.metrics import roc_auc_score\n",
    "from imblearn.metrics import geometric_mean_score\n",
    "from sklearn.metrics import f1_score\n",
    "\n",
    "import kdn\n",
    "import pruning\n",
    "import diversity"
   ]
  },
  {
   "cell_type": "markdown",
   "metadata": {},
   "source": [
    "### Pre processing"
   ]
  },
  {
   "cell_type": "code",
   "execution_count": 2,
   "metadata": {},
   "outputs": [],
   "source": [
    "data = pd.read_csv('../kc1.csv')"
   ]
  },
  {
   "cell_type": "code",
   "execution_count": 3,
   "metadata": {},
   "outputs": [
    {
     "data": {
      "text/plain": [
       "2109"
      ]
     },
     "execution_count": 3,
     "metadata": {},
     "output_type": "execute_result"
    }
   ],
   "source": [
    "X = data.iloc[:, :-1].values\n",
    "y = data.iloc[:, -1].values\n",
    "len(X)"
   ]
  },
  {
   "cell_type": "code",
   "execution_count": 4,
   "metadata": {},
   "outputs": [],
   "source": [
    "scaler = StandardScaler()\n",
    "X = scaler.fit_transform(X)"
   ]
  },
  {
   "cell_type": "markdown",
   "metadata": {},
   "source": [
    "### Analysis"
   ]
  },
  {
   "cell_type": "code",
   "execution_count": 5,
   "metadata": {},
   "outputs": [
    {
     "name": "stdout",
     "output_type": "stream",
     "text": [
      "0\n",
      "*best 4\n",
      "*red 9\n",
      "1\n",
      "*best 2\n",
      "*red 2\n",
      "2\n",
      "*best 5\n",
      "*red 3\n",
      "0\n",
      "*best 5\n",
      "*red 10\n",
      "1\n",
      "*best 6\n",
      "*red 2\n",
      "2\n",
      "*best 9\n",
      "*red 5\n",
      "0\n",
      "*best 20\n",
      "*red 5\n",
      "1\n",
      "*best 4\n",
      "*red 2\n",
      "2\n",
      "*best 3\n",
      "*red 3\n",
      "0\n",
      "*best 3\n",
      "*red 5\n",
      "1\n",
      "*best 3\n",
      "*red 2\n"
     ]
    },
    {
     "name": "stderr",
     "output_type": "stream",
     "text": [
      "/home/CIN/jvcm/mcsenv/lib/python3.6/site-packages/scipy/stats/stats.py:313: RuntimeWarning: divide by zero encountered in log\n",
      "  log_a = np.log(a)\n",
      "/home/CIN/jvcm/mcsenv/lib/python3.6/site-packages/sklearn/metrics/classification.py:1135: UndefinedMetricWarning: F-score is ill-defined and being set to 0.0 due to no predicted samples.\n",
      "  'precision', 'predicted', average, warn_for)\n"
     ]
    },
    {
     "name": "stdout",
     "output_type": "stream",
     "text": [
      "2\n",
      "*best 5\n",
      "*red 3\n",
      "0\n",
      "*best 4\n",
      "*red 6\n",
      "1\n",
      "*best 2\n",
      "*red 2\n",
      "2\n",
      "*best 3\n",
      "*red 3\n",
      "0\n",
      "*best 9\n",
      "*red 7\n",
      "1\n",
      "*best 2\n",
      "*red 2\n",
      "2\n",
      "*best 3\n",
      "*red 5\n",
      "0\n",
      "*best 10\n",
      "*red 8\n",
      "1\n",
      "*best 4\n",
      "*red 2\n",
      "2\n",
      "*best 3\n",
      "*red 3\n",
      "0\n",
      "*best 8\n",
      "*red 5\n",
      "1\n",
      "*best 2\n",
      "*red 2\n",
      "2\n"
     ]
    },
    {
     "name": "stderr",
     "output_type": "stream",
     "text": [
      "/home/CIN/jvcm/mcsenv/lib/python3.6/site-packages/scipy/stats/stats.py:313: RuntimeWarning: divide by zero encountered in log\n",
      "  log_a = np.log(a)\n"
     ]
    },
    {
     "name": "stdout",
     "output_type": "stream",
     "text": [
      "*best 7\n",
      "*red 3\n",
      "0\n",
      "*best 6\n",
      "*red 9\n",
      "1\n",
      "*best 6\n",
      "*red 2\n",
      "2\n",
      "*best 3\n",
      "*red 5\n",
      "0\n",
      "*best 3\n",
      "*red 3\n",
      "1\n",
      "*best 2\n",
      "*red 2\n",
      "2\n",
      "*best 3\n",
      "*red 7\n",
      "Bagging:\n",
      "Metricas: [0.73157192 0.77755998 0.71835541 0.44847518] \n",
      " \n",
      " \n",
      "\n",
      "Best first:\n",
      "Metricas: [[0.70643281 0.76758413 0.71358642 0.4351052 ]\n",
      " [0.47129491 0.33111089 0.31392    0.12710751]\n",
      " [0.66897793 0.75119843 0.71328686 0.42598173]]\n",
      "Diversidade: [[0.10869704 0.78156003]\n",
      " [0.3293483  0.33500152]\n",
      " [0.09687389 0.80148578]] \n",
      " \n",
      " \n",
      "\n",
      "Reduce Error:\n",
      "Metricas: [[0.71070941 0.74334057 0.69827911 0.42241896]\n",
      " [0.62173865 0.42215681 0.23211884 0.08559977]\n",
      " [0.66093673 0.75891215 0.70974589 0.42098331]]\n",
      "Diversidade: [[0.29151871 0.4198845 ]\n",
      " [0.42444857 0.11108302]\n",
      " [0.22259204 0.54883466]] \n",
      " \n",
      " \n",
      "\n"
     ]
    }
   ],
   "source": [
    "skf = StratifiedKFold(n_splits=10, shuffle=True)\n",
    "\n",
    "metrics_bag = np.zeros(4)\n",
    "metrics_best = np.zeros((3, 4))\n",
    "metrics_red = np.zeros((3, 4))\n",
    "\n",
    "divers_best = np.zeros((3,2))\n",
    "divers_red = np.zeros((3,2))\n",
    "\n",
    "for train_index, test_index in skf.split(X, y):\n",
    "\n",
    "    X_train, X_test = X[train_index], X[test_index]\n",
    "    y_train, y_test = y[train_index], y[test_index]\n",
    "            \n",
    "    sm = SMOTE()\n",
    "    X_train, y_train = sm.fit_sample(X_train, y_train)\n",
    "\n",
    "    #---------------------------------------BAGGING ORIGINAL---------------------------------------#\n",
    "    bg = BaggingClassifier(Perceptron(max_iter = 150, tol = 0.001),\n",
    "                         n_estimators = 100)\n",
    "    bg.fit(X_train, y_train)\n",
    "    AUX = bg.estimators_[:]\n",
    "    metrics_bag += np.array([bg.score(X_test, y_test),\n",
    "                            roc_auc_score(y_test, bg.predict_proba(X_test)[:,1]),\n",
    "                            geometric_mean_score(y_test, bg.predict(X_test)),\n",
    "                            f1_score(y_test, bg.predict(X_test))])\n",
    "    #---------------------------------------------------------------------------------------------#\n",
    "    \n",
    "    easy = []\n",
    "    hard = []\n",
    "    vis = kdn.kDN(X_train, y_train)\n",
    "    for i, k in enumerate(vis):\n",
    "        if k < 0.4:\n",
    "            easy.append(i)\n",
    "        else: \n",
    "            hard.append(i)\n",
    "            \n",
    "    #--------------------------------------BAGGING PODADO-----------------------------------------#\n",
    "    all_ = list(range(len(y_train)))\n",
    "    valid = [all_, hard, easy]\n",
    "    for i, val in enumerate(valid):\n",
    "        print(i)\n",
    "        bg.estimators_ = AUX[:]\n",
    "        \n",
    "        prune1 = pruning.best_first(bg, X_train[val], y_train[val])\n",
    "        prune2 = pruning.reduce_error(bg, X_train[val], y_train[val])\n",
    "        \n",
    "        #--------------------------------------BEST FIRST-----------------------------------------#\n",
    "        divers_best[i, :] += np.array([diversity.disagreement(prune1, X_train, y_train),\n",
    "                                      diversity.kappa(prune1, X_train, y_train)])\n",
    "        bg.estimators_ = prune1       \n",
    "        metrics_best[i, :] += np.array([bg.score(X_test, y_test),\n",
    "                            roc_auc_score(y_test, bg.predict_proba(X_test)[:,1]),\n",
    "                            geometric_mean_score(y_test, bg.predict(X_test)),\n",
    "                            f1_score(y_test, bg.predict(X_test))])       \n",
    "                \n",
    "        #-------------------------------------REDUCE ERROR----------------------------------------#\n",
    "        divers_red[i, :] += np.array([diversity.disagreement(prune2, X_train, y_train),\n",
    "                                      diversity.kappa(prune2, X_train, y_train)])\n",
    "        bg.estimators_ = prune2\n",
    "        metrics_red[i,:] += np.array([bg.score(X_test, y_test),\n",
    "                            roc_auc_score(y_test, bg.predict_proba(X_test)[:,1]),\n",
    "                            geometric_mean_score(y_test, bg.predict(X_test)),\n",
    "                            f1_score(y_test, bg.predict(X_test))])\n",
    "    \n",
    "    #---------------------------------------------------------------------------------------------#\n",
    "    \n",
    "metrics_bag = metrics_bag / skf.n_splits\n",
    "\n",
    "metrics_best = metrics_best / skf.n_splits\n",
    "metrics_red = metrics_red / skf.n_splits\n",
    "\n",
    "divers_best = divers_best / skf.n_splits\n",
    "divers_red = divers_red / skf.n_splits\n",
    "\n",
    "print('Bagging:')\n",
    "print('Metricas:', metrics_bag, '\\n \\n \\n')\n",
    "print('Best first:')\n",
    "print('Metricas:', metrics_best)\n",
    "print('Diversidade:', divers_best, '\\n \\n \\n')\n",
    "print('Reduce Error:')\n",
    "print('Metricas:', metrics_red)\n",
    "print('Diversidade:', divers_red, '\\n \\n \\n')"
   ]
  },
  {
   "cell_type": "markdown",
   "metadata": {},
   "source": [
    "### Bagging Original"
   ]
  },
  {
   "cell_type": "code",
   "execution_count": 6,
   "metadata": {
    "scrolled": true
   },
   "outputs": [
    {
     "data": {
      "image/png": "[encoded data removed]",
      "text/plain": [
       "<Figure size 360x288 with 1 Axes>"
      ]
     },
     "metadata": {
      "needs_background": "light"
     },
     "output_type": "display_data"
    },
    {
     "name": "stdout",
     "output_type": "stream",
     "text": [
      "   Acurácia      AUC    G-Mean  F-Measure\n",
      "0  0.731572  0.77756  0.718355   0.448475\n"
     ]
    }
   ],
   "source": [
    "rcParams['figure.figsize'] = 5, 4\n",
    "barWidth = 0.1\n",
    "# Set position of bar on X axis\n",
    "x = [0,barWidth,2*barWidth,3*barWidth]\n",
    "\n",
    "# Make the plot\n",
    "plt.bar(x[0], metrics_bag[0], width=barWidth, edgecolor='white', label='Acurácia')\n",
    "plt.bar(x[1], metrics_bag[1], width=barWidth, edgecolor='white', label='AUC')\n",
    "plt.bar(x[2], metrics_bag[2], width=barWidth, edgecolor='white', label='G-Mean')\n",
    "plt.bar(x[3], metrics_bag[3], width=barWidth, edgecolor='white', label='F-Measure')\n",
    "\n",
    "# Add xticks on the middle of the group bars\n",
    "plt.ylim([0., 1.01])\n",
    "plt.xlim([-0.2,0.6])\n",
    "plt.xticks([])\n",
    "plt.ylabel('Escore')\n",
    "\n",
    "# Create legend & Show graphic\n",
    "plt.legend(loc = 'upper right')\n",
    "plt.title('Bagging Original')\n",
    "plt.show()\n",
    "\n",
    "df = pd.DataFrame(data = np.reshape(metrics_bag, (1,4)), columns = ['Acurácia', 'AUC', 'G-Mean', 'F-Measure'])\n",
    "print(df)"
   ]
  },
  {
   "cell_type": "markdown",
   "metadata": {},
   "source": [
    "### Best First"
   ]
  },
  {
   "cell_type": "code",
   "execution_count": 7,
   "metadata": {},
   "outputs": [
    {
     "data": {
      "image/png": "[encoded data removed]",
      "text/plain": [
       "<Figure size 648x288 with 1 Axes>"
      ]
     },
     "metadata": {
      "needs_background": "light"
     },
     "output_type": "display_data"
    },
    {
     "name": "stdout",
     "output_type": "stream",
     "text": [
      "            Acurácia       AUC    G-Mean  F-Measure\n",
      "Completo    0.706433  0.767584  0.713586   0.435105\n",
      "kDN > 0.4   0.471295  0.331111  0.313920   0.127108\n",
      "kDN <= 0.4  0.668978  0.751198  0.713287   0.425982\n"
     ]
    }
   ],
   "source": [
    "rcParams['figure.figsize'] = 9, 4\n",
    "barWidth = 0.2\n",
    "# Set position of bar on X axis\n",
    "r1 = np.arange(metrics_best.shape[0])\n",
    "r2 = [x + barWidth for x in r1]\n",
    "r3 = [x + barWidth for x in r2]\n",
    "r4 = [x + barWidth for x in r3]\n",
    "\n",
    "# Make the plot\n",
    "plt.bar(r1, metrics_best[:, 0], width=barWidth, edgecolor='white', label='Acurácia')\n",
    "plt.bar(r2, metrics_best[:, 1], width=barWidth, edgecolor='white', label='AUC')\n",
    "plt.bar(r3, metrics_best[:, 2], width=barWidth, edgecolor='white', label='G-Mean')\n",
    "plt.bar(r4, metrics_best[:, 3], width=barWidth, edgecolor='white', label='F-Measure')\n",
    "\n",
    "# Add xticks on the middle of the group bars\n",
    "plt.ylim([0., 1.01])\n",
    "plt.xlim([-0.5, 3.5])\n",
    "plt.ylabel('Escore')\n",
    "plt.xticks([r + barWidth for r in range(metrics_best.shape[0])], ['Conjunto Completo', 'kDN > 0.4', 'kDN <= 0.4'])\n",
    "\n",
    "# Create legend & Show graphic\n",
    "plt.legend(loc = 'upper right')\n",
    "plt.title('Best First Pruning')\n",
    "plt.show()\n",
    "\n",
    "df = pd.DataFrame(data = metrics_best, columns = ['Acurácia', 'AUC', 'G-Mean', 'F-Measure'], index = ['Completo', \"kDN > 0.4\", \"kDN <= 0.4\"])\n",
    "print(df)"
   ]
  },
  {
   "cell_type": "markdown",
   "metadata": {},
   "source": [
    "### Reduce Error"
   ]
  },
  {
   "cell_type": "code",
   "execution_count": 8,
   "metadata": {},
   "outputs": [
    {
     "data": {
      "image/png": "[encoded data removed]",
      "text/plain": [
       "<Figure size 648x288 with 1 Axes>"
      ]
     },
     "metadata": {
      "needs_background": "light"
     },
     "output_type": "display_data"
    },
    {
     "name": "stdout",
     "output_type": "stream",
     "text": [
      "            Acurácia       AUC    G-Mean  F-Measure\n",
      "Completo    0.710709  0.743341  0.698279   0.422419\n",
      "kDN > 0.4   0.621739  0.422157  0.232119   0.085600\n",
      "kDN <= 0.4  0.660937  0.758912  0.709746   0.420983\n"
     ]
    }
   ],
   "source": [
    "cenario = ['Conjunto Original', 'Instâncias Difíceis (kDN > 0.4)', 'Instâncias Fáceis (kDN <= 0.4)']\n",
    "rcParams['figure.figsize'] = 9, 4\n",
    "barWidth = 0.2\n",
    "# Set position of bar on X axis\n",
    "r1 = np.arange(metrics_red.shape[0])\n",
    "r2 = [x + barWidth for x in r1]\n",
    "r3 = [x + barWidth for x in r2]\n",
    "r4 = [x + barWidth for x in r3]\n",
    "\n",
    "# Make the plot\n",
    "plt.bar(r1, metrics_red[:, 0], width=barWidth, edgecolor='white', label='Acurácia')\n",
    "plt.bar(r2, metrics_red[:, 1], width=barWidth, edgecolor='white', label='AUC')\n",
    "plt.bar(r3, metrics_red[:, 2], width=barWidth, edgecolor='white', label='G-Mean')\n",
    "plt.bar(r4, metrics_red[:, 3], width=barWidth, edgecolor='white', label='F-Measure')\n",
    "\n",
    "# Add xticks on the middle of the group bars\n",
    "plt.ylim([0., 1.01])\n",
    "plt.xlim([-0.5, 3.5])\n",
    "plt.ylabel('Escore')\n",
    "plt.xticks([r + barWidth for r in range(metrics_red.shape[0])], ['Conjunto Completo', 'kDN > 0.4', 'kDN <= 0.4'])\n",
    "\n",
    "# Create legend & Show graphic\n",
    "plt.legend(loc = 'upper right')\n",
    "plt.title('Reduce-Error Pruning')\n",
    "plt.show()\n",
    "\n",
    "df = pd.DataFrame(data = metrics_red, columns = ['Acurácia', 'AUC', 'G-Mean', 'F-Measure'], index = ['Completo', \"kDN > 0.4\", \"kDN <= 0.4\"])\n",
    "print(df)"
   ]
  },
  {
   "cell_type": "code",
   "execution_count": null,
   "metadata": {},
   "outputs": [],
   "source": []
  }
 ],
 "metadata": {
  "kernelspec": {
   "display_name": "Python 3",
   "language": "python",
   "name": "python3"
  },
  "language_info": {
   "codemirror_mode": {
    "name": "ipython",
    "version": 3
   },
   "file_extension": ".py",
   "mimetype": "text/x-python",
   "name": "python",
   "nbconvert_exporter": "python",
   "pygments_lexer": "ipython3",
   "version": "3.6.5"
  }
 },
 "nbformat": 4,
 "nbformat_minor": 2
}
