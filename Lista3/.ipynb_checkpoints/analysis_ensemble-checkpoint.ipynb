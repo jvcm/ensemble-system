{
 "cells": [
  {
   "cell_type": "code",
   "execution_count": 2,
   "metadata": {},
   "outputs": [
    {
     "name": "stdout",
     "output_type": "stream",
     "text": [
      "Collecting git+https://github.com/Menelau/DESlib\n",
      "  Cloning https://github.com/Menelau/DESlib to /tmp/pip-req-build-acp4_1py\n",
      "Requirement already satisfied (use --upgrade to upgrade): DESlib==0.3.dev0 from git+https://github.com/Menelau/DESlib in /home/CIN/jvcm/mcsenv/lib/python3.6/site-packages\n",
      "Requirement already satisfied: scikit-learn>=0.19.0 in /home/CIN/jvcm/mcsenv/lib/python3.6/site-packages (from DESlib==0.3.dev0) (0.19.2)\n",
      "Requirement already satisfied: numpy>=1.10.4 in /home/CIN/jvcm/mcsenv/lib/python3.6/site-packages (from DESlib==0.3.dev0) (1.15.1)\n",
      "Requirement already satisfied: scipy>=0.13.3 in /home/CIN/jvcm/mcsenv/lib/python3.6/site-packages (from DESlib==0.3.dev0) (1.1.0)\n",
      "Building wheels for collected packages: DESlib\n",
      "  Running setup.py bdist_wheel for DESlib ... \u001b[?25ldone\n",
      "\u001b[?25h  Stored in directory: /tmp/pip-ephem-wheel-cache-ybpsct6x/wheels/8d/97/f7/014976b54546aa3fc60da2446f9ab6f57727cf478172007b06\n",
      "Successfully built DESlib\n"
     ]
    }
   ],
   "source": [
    "!pip install git+https://github.com/Menelau/DESlib"
   ]
  },
  {
   "cell_type": "code",
   "execution_count": 12,
   "metadata": {},
   "outputs": [],
   "source": [
    "import numpy as np\n",
    "import pandas as pd\n",
    "import matplotlib.pyplot as plt\n",
    "import seaborn as sns\n",
    "sns.set()\n",
    "\n",
    "from matplotlib.pylab import rcParams\n",
    "from sklearn.preprocessing import StandardScaler\n",
    "from collections import Counter\n",
    "from imblearn.over_sampling import SMOTE\n",
    "from sklearn.model_selection import StratifiedKFold\n",
    "from sklearn.ensemble import BaggingClassifier\n",
    "from sklearn.linear_model import Perceptron\n",
    "from sklearn.neighbors import KNeighborsClassifier\n",
    "from sklearn.metrics import cohen_kappa_score\n",
    "from itertools import combinations\n",
    "from sklearn.metrics import accuracy_score\n",
    "from sklearn.metrics import roc_auc_score\n",
    "from imblearn.metrics import geometric_mean_score\n",
    "from sklearn.metrics import f1_score\n",
    "\n",
    "import sys\n",
    "sys.path.insert(0, '../Lista2')\n",
    "import kdn\n",
    "import ih_classifier\n",
    "\n",
    "from deslib.dcs.mcb import MCB\n",
    "from deslib.dcs.ola import OLA\n",
    "from deslib.des.knora_e import KNORAE\n",
    "from deslib.des.des_knn import DESKNN"
   ]
  },
  {
   "cell_type": "markdown",
   "metadata": {},
   "source": [
    "### Pre processing"
   ]
  },
  {
   "cell_type": "code",
   "execution_count": 131,
   "metadata": {},
   "outputs": [],
   "source": [
    "data = pd.read_csv('../kc1.csv')"
   ]
  },
  {
   "cell_type": "code",
   "execution_count": 132,
   "metadata": {},
   "outputs": [
    {
     "data": {
      "text/plain": [
       "2109"
      ]
     },
     "execution_count": 132,
     "metadata": {},
     "output_type": "execute_result"
    }
   ],
   "source": [
    "X = data.iloc[:, :-1].values\n",
    "y = data.iloc[:, -1].values\n",
    "len(X)"
   ]
  },
  {
   "cell_type": "code",
   "execution_count": 133,
   "metadata": {},
   "outputs": [],
   "source": [
    "scaler = StandardScaler()\n",
    "X = scaler.fit_transform(X)"
   ]
  },
  {
   "cell_type": "markdown",
   "metadata": {},
   "source": [
    "### Analysis"
   ]
  },
  {
   "cell_type": "code",
   "execution_count": 134,
   "metadata": {},
   "outputs": [
    {
     "name": "stdout",
     "output_type": "stream",
     "text": [
      "Easy-False: 1199 Easy-True: 1448 Hard-False: 405 Hard-True: 156\n",
      "Easy-False: 1203 Easy-True: 1460 Hard-False: 401 Hard-True: 144\n",
      "Easy-False: 1199 Easy-True: 1440 Hard-False: 405 Hard-True: 164\n",
      "Easy-False: 1211 Easy-True: 1452 Hard-False: 394 Hard-True: 153\n",
      "Easy-False: 1194 Easy-True: 1479 Hard-False: 411 Hard-True: 126\n",
      "Easy-False: 1205 Easy-True: 1432 Hard-False: 400 Hard-True: 173\n",
      "Easy-False: 1191 Easy-True: 1444 Hard-False: 414 Hard-True: 161\n",
      "Easy-False: 1205 Easy-True: 1441 Hard-False: 400 Hard-True: 164\n",
      "Easy-False: 1212 Easy-True: 1445 Hard-False: 393 Hard-True: 160\n",
      "Easy-False: 1195 Easy-True: 1470 Hard-False: 410 Hard-True: 135\n"
     ]
    }
   ],
   "source": [
    "skf = StratifiedKFold(n_splits=10, shuffle=True)\n",
    "metrics = np.zeros((5,4))\n",
    "\n",
    "for train_index, test_index in skf.split(X, y):\n",
    "       \n",
    "    X_Train, X_test = X[train_index], X[test_index]\n",
    "    y_Train, y_test = y[train_index], y[test_index]\n",
    "\n",
    "    sm = SMOTE()\n",
    "    X_Train, y_Train = sm.fit_sample(X_Train, y_Train)\n",
    "    \n",
    "    skf_val = StratifiedKFold(n_splits=5, shuffle=True)\n",
    "    for train, val_index in skf.split(X_Train, y_Train):\n",
    "        X_train, X_val = X_Train[train], X_Train[val_index]\n",
    "        y_train, y_val = y_Train[train], y_Train[val_index]\n",
    "        break\n",
    "    \n",
    "#-------------------------------IH MODEL--------------------------------\n",
    "    ih_model = ih_classifier.IHClassifier()\n",
    "    ih_model.fit(X_Train, y_Train)\n",
    "    \n",
    "#-----------------------------------------------------------------------\n",
    "\n",
    "    bg = BaggingClassifier(Perceptron(max_iter = 150, tol = 0.001),\n",
    "                         n_estimators = 100)\n",
    "    bg.fit(X_train, y_train)\n",
    "    \n",
    "#-------------------------------DCS & DES-------------------------------\n",
    "    ola = OLA(bg)\n",
    "    ola.fit(X_val, y_val)\n",
    "    \n",
    "    mcb = MCB(bg)\n",
    "    mcb.fit(X_val, y_val)\n",
    "    \n",
    "    knorae = KNORAE(bg)\n",
    "    knorae.fit(X_val, y_val)\n",
    "    \n",
    "    desknn = DESKNN(bg)\n",
    "    desknn.fit(X_val, y_val)\n",
    "    \n",
    "    models = [ih_model, ola, mcb, knorae, desknn]\n",
    "            \n",
    "#---------------------------------------------------------\n",
    "    \n",
    "    for i, model in enumerate(models):\n",
    "        metrics[i, :] += np.array([accuracy_score(y_test, model.predict(X_test)),\n",
    "                            roc_auc_score(y_test, model.predict(X_test)),\n",
    "                            geometric_mean_score(y_test, model.predict(X_test)),\n",
    "                            f1_score(y_test, model.predict(X_test))])\n",
    "metrics = metrics/skf.n_splits"
   ]
  },
  {
   "cell_type": "code",
   "execution_count": 135,
   "metadata": {},
   "outputs": [
    {
     "data": {
      "text/plain": [
       "array([[0.78851003, 0.70188509, 0.68889127, 0.45659349],\n",
       "       [0.726026  , 0.69368917, 0.69025005, 0.4227928 ],\n",
       "       [0.71982212, 0.68385361, 0.67359649, 0.4149731 ],\n",
       "       [0.71313993, 0.6736805 , 0.66994204, 0.39900632],\n",
       "       [0.71602168, 0.71015045, 0.70859549, 0.43337051]])"
      ]
     },
     "execution_count": 135,
     "metadata": {},
     "output_type": "execute_result"
    }
   ],
   "source": [
    "metrics"
   ]
  },
  {
   "cell_type": "markdown",
   "metadata": {},
   "source": [
    "### Results"
   ]
  },
  {
   "cell_type": "code",
   "execution_count": 1,
   "metadata": {},
   "outputs": [
    {
     "ename": "NameError",
     "evalue": "name 'rcParams' is not defined",
     "output_type": "error",
     "traceback": [
      "\u001b[0;31m--------------------------------------------------------------------------\u001b[0m",
      "\u001b[0;31mNameError\u001b[0m                                Traceback (most recent call last)",
      "\u001b[0;32m<ipython-input-1-852dab796b3c>\u001b[0m in \u001b[0;36m<module>\u001b[0;34m\u001b[0m\n\u001b[0;32m----> 1\u001b[0;31m \u001b[0mrcParams\u001b[0m\u001b[0;34m[\u001b[0m\u001b[0;34m'figure.figsize'\u001b[0m\u001b[0;34m]\u001b[0m \u001b[0;34m=\u001b[0m \u001b[0;36m15\u001b[0m\u001b[0;34m,\u001b[0m \u001b[0;36m5\u001b[0m\u001b[0;34m\u001b[0m\u001b[0m\n\u001b[0m\u001b[1;32m      2\u001b[0m \u001b[0mbarWidth\u001b[0m \u001b[0;34m=\u001b[0m \u001b[0;36m0.15\u001b[0m\u001b[0;34m\u001b[0m\u001b[0m\n\u001b[1;32m      3\u001b[0m \u001b[0;31m# Set position of bar on X axis\u001b[0m\u001b[0;34m\u001b[0m\u001b[0;34m\u001b[0m\u001b[0m\n\u001b[1;32m      4\u001b[0m \u001b[0mr1\u001b[0m \u001b[0;34m=\u001b[0m \u001b[0mnp\u001b[0m\u001b[0;34m.\u001b[0m\u001b[0marange\u001b[0m\u001b[0;34m(\u001b[0m\u001b[0mmetrics\u001b[0m\u001b[0;34m.\u001b[0m\u001b[0mshape\u001b[0m\u001b[0;34m[\u001b[0m\u001b[0;36m0\u001b[0m\u001b[0;34m]\u001b[0m\u001b[0;34m)\u001b[0m\u001b[0;34m\u001b[0m\u001b[0m\n\u001b[1;32m      5\u001b[0m \u001b[0mr2\u001b[0m \u001b[0;34m=\u001b[0m \u001b[0;34m[\u001b[0m\u001b[0mx\u001b[0m \u001b[0;34m+\u001b[0m \u001b[0mbarWidth\u001b[0m \u001b[0;32mfor\u001b[0m \u001b[0mx\u001b[0m \u001b[0;32min\u001b[0m \u001b[0mr1\u001b[0m\u001b[0;34m]\u001b[0m\u001b[0;34m\u001b[0m\u001b[0m\n",
      "\u001b[0;31mNameError\u001b[0m: name 'rcParams' is not defined"
     ]
    }
   ],
   "source": [
    "rcParams['figure.figsize'] = 15, 5\n",
    "barWidth = 0.15\n",
    "# Set position of bar on X axis\n",
    "r1 = np.arange(metrics.shape[0])\n",
    "r2 = [x + barWidth for x in r1]\n",
    "r3 = [x + barWidth for x in r2]\n",
    "r4 = [x + barWidth for x in r3]\n",
    "\n",
    "# Make the plot\n",
    "plt.bar(r1, metrics[:, 0], width=barWidth, edgecolor='white', label='Acurácia')\n",
    "plt.bar(r2, metrics[:, 1], width=barWidth, edgecolor='white', label='AUC')\n",
    "plt.bar(r3, metrics[:, 2], width=barWidth, edgecolor='white', label='G-Mean')\n",
    "plt.bar(r4, metrics[:, 3], width=barWidth, edgecolor='white', label='F-Measure')\n",
    "\n",
    "# Add xticks on the middle of the group bars\n",
    "plt.ylim([0., 1.01])\n",
    "plt.xlim([-0.2, 4.7])\n",
    "plt.ylabel('Escore')\n",
    "plt.xticks([r + barWidth for r in range(metrics.shape[0])], ['Modelo IH', 'OLA', 'MCB', 'KNORA-E', 'DES-KNN'])\n",
    "\n",
    "# Create legend & Show graphic\n",
    "plt.legend(loc = 'lower right')\n",
    "plt.title('Comparação entre modelos')\n",
    "plt.show()\n",
    "\n",
    "df = pd.DataFrame(data = metrics, columns = ['Acurácia', 'AUC', 'G-Mean', 'F-Measure'], index = ['Modelo IH', 'OLA', 'MCB','KNORA-E', 'DES-KNN'])\n",
    "print(df)"
   ]
  },
  {
   "cell_type": "code",
   "execution_count": null,
   "metadata": {},
   "outputs": [],
   "source": []
  }
 ],
 "metadata": {
  "kernelspec": {
   "display_name": "Python 3",
   "language": "python",
   "name": "python3"
  },
  "language_info": {
   "codemirror_mode": {
    "name": "ipython",
    "version": 3
   },
   "file_extension": ".py",
   "mimetype": "text/x-python",
   "name": "python",
   "nbconvert_exporter": "python",
   "pygments_lexer": "ipython3",
   "version": "3.6.5"
  }
 },
 "nbformat": 4,
 "nbformat_minor": 2
}
