{
 "cells": [
  {
   "cell_type": "code",
   "execution_count": 1,
   "metadata": {},
   "outputs": [
    {
     "name": "stderr",
     "output_type": "stream",
     "text": [
      "/home/CIN/jvcm/mcs-env/lib/python3.6/site-packages/sklearn/ensemble/weight_boosting.py:29: DeprecationWarning: numpy.core.umath_tests is an internal NumPy module and should not be imported. It will be removed in a future NumPy release.\n",
      "  from numpy.core.umath_tests import inner1d\n"
     ]
    }
   ],
   "source": [
    "import numpy as np\n",
    "import pandas as pd\n",
    "import matplotlib.pyplot as plt\n",
    "import seaborn as sns\n",
    "sns.set()\n",
    "\n",
    "from matplotlib.pylab import rcParams\n",
    "from sklearn.preprocessing import StandardScaler\n",
    "from collections import Counter\n",
    "from imblearn.over_sampling import SMOTE\n",
    "from sklearn.model_selection import StratifiedKFold\n",
    "from sklearn.ensemble import BaggingClassifier\n",
    "from sklearn.linear_model import Perceptron\n",
    "from sklearn.metrics import cohen_kappa_score\n",
    "from itertools import combinations"
   ]
  },
  {
   "cell_type": "code",
   "execution_count": 2,
   "metadata": {},
   "outputs": [],
   "source": [
    "data = pd.read_csv('../cm1.csv')"
   ]
  },
  {
   "cell_type": "code",
   "execution_count": 3,
   "metadata": {},
   "outputs": [],
   "source": [
    "X = data.iloc[:, :-1].values\n",
    "y = data.iloc[:, -1].values"
   ]
  },
  {
   "cell_type": "code",
   "execution_count": 4,
   "metadata": {},
   "outputs": [],
   "source": [
    "scaler = StandardScaler()\n",
    "X = scaler.fit_transform(X)"
   ]
  },
  {
   "cell_type": "code",
   "execution_count": 6,
   "metadata": {},
   "outputs": [],
   "source": [
    "import kdn\n",
    "import pruning"
   ]
  },
  {
   "cell_type": "code",
   "execution_count": 7,
   "metadata": {},
   "outputs": [],
   "source": [
    "easy = list()\n",
    "hard = list()\n",
    "for i, k in enumerate(kdn.kDN(X, y)):\n",
    "    if k < 0.5:\n",
    "        easy.append(i)\n",
    "    else: \n",
    "        hard.append(i)"
   ]
  },
  {
   "cell_type": "code",
   "execution_count": 8,
   "metadata": {},
   "outputs": [],
   "source": [
    "skf = StratifiedKFold(n_splits=10, random_state=42, shuffle=True)\n",
    "for train_index, test_index in skf.split(X, y):\n",
    "    X_train, X_test = X[train_index], X[test_index]\n",
    "    y_train, y_test = y[train_index], y[test_index]\n",
    "    \n",
    "    sm = SMOTE(random_state=42)\n",
    "    X_train, y_train = sm.fit_sample(X_train, y_train)\n",
    "    \n",
    "    bg = BaggingClassifier(Perceptron(max_iter = 150, tol = 0.001),\n",
    "                         n_estimators = 100,\n",
    "                         random_state = 42)\n",
    "    bg.fit(X_train, y_train)\n",
    "    y_pred = bg.predict(X_test)   \n",
    "    "
   ]
  },
  {
   "cell_type": "code",
   "execution_count": 12,
   "metadata": {},
   "outputs": [
    {
     "name": "stdout",
     "output_type": "stream",
     "text": [
      "995 (10, 61) 0.9102314514384598\n",
      "1383 (15, 19) 0.9046269342730198\n",
      "3149 (39, 69) 0.8990379298905231\n",
      "332 (3, 42) 0.8957504710069081\n",
      "949 (10, 15) 0.8910999343975509\n",
      "4316 (63, 96) 0.8907248754984831\n",
      "3693 (49, 68) 0.8874498009422646\n",
      "1322 (14, 42) 0.885079448803323\n",
      "2461 (28, 96) 0.8823019655729311\n",
      "1415 (15, 51) 0.8818583818868497\n",
      "4558 (71, 86) 0.8806743922627864\n",
      "3181 (40, 42) 0.8794855839037544\n",
      "2076 (23, 76) 0.8752947559525052\n",
      "2812 (34, 42) 0.8727237876174047\n",
      "275 (2, 81) 0.8724566745397114\n",
      "3119 (38, 99) 0.8719306600628631\n",
      "1425 (15, 61) 0.8702545779365788\n",
      "3179 (39, 99) 0.8693599160545645\n",
      "1729 (19, 39) 0.8680395200060567\n",
      "1203 (12, 94) 0.8663027428520291\n",
      "3358 (43, 48) 0.865127289505888\n",
      "770 (8, 15) 0.8650040661425861\n",
      "3783 (51, 61) 0.8649649368863955\n",
      "4331 (64, 76) 0.864376349075064\n",
      "3093 (38, 73) 0.8639677486200855\n",
      "2428 (28, 63) 0.8635925723029261\n",
      "2774 (33, 69) 0.863218329700707\n",
      "783 (8, 28) 0.8626856265017528\n",
      "1741 (19, 51) 0.8608858150153158\n",
      "3340 (42, 86) 0.8599392507593655\n",
      "1403 (15, 39) 0.8511933664512755\n",
      "1157 (12, 48) 0.8510204533871075\n",
      "330 (3, 40) 0.8507086840779912\n",
      "1759 (19, 69) 0.8497737556561086\n",
      "2083 (23, 83) 0.8496679412356611\n",
      "3521 (46, 49) 0.847884742656417\n",
      "2773 (33, 68) 0.8441612628431355\n",
      "1372 (14, 92) 0.8437682068749159\n",
      "1552 (17, 23) 0.840202877548908\n",
      "2841 (34, 71) 0.8398780260128197\n",
      "382 (3, 92) 0.839871382636656\n",
      "816 (8, 61) 0.8387981263566777\n",
      "794 (8, 39) 0.8381261950286807\n",
      "1392 (15, 28) 0.8378657882641336\n",
      "1002 (10, 68) 0.8376592482951842\n",
      "1789 (19, 99) 0.8372236108440685\n",
      "2744 (33, 39) 0.8363733238611135\n",
      "1460 (15, 96) 0.836076366030283\n",
      "2071 (23, 71) 0.8340463956313289\n",
      "2034 (23, 34) 0.8319306460798582\n"
     ]
    },
    {
     "data": {
      "text/plain": [
       "[10,\n",
       " 61,\n",
       " 15,\n",
       " 19,\n",
       " 39,\n",
       " 69,\n",
       " 3,\n",
       " 42,\n",
       " 63,\n",
       " 96,\n",
       " 49,\n",
       " 68,\n",
       " 14,\n",
       " 28,\n",
       " 51,\n",
       " 71,\n",
       " 86,\n",
       " 40,\n",
       " 23,\n",
       " 76,\n",
       " 34,\n",
       " 2,\n",
       " 81,\n",
       " 38,\n",
       " 99,\n",
       " 12,\n",
       " 94,\n",
       " 43,\n",
       " 48,\n",
       " 8,\n",
       " 64,\n",
       " 73,\n",
       " 33,\n",
       " 83,\n",
       " 46,\n",
       " 92,\n",
       " 17]"
      ]
     },
     "execution_count": 12,
     "metadata": {},
     "output_type": "execute_result"
    }
   ],
   "source": [
    "pruning.kappa_pruning(bg, X, 50)"
   ]
  },
  {
   "cell_type": "code",
   "execution_count": null,
   "metadata": {},
   "outputs": [],
   "source": []
  }
 ],
 "metadata": {
  "kernelspec": {
   "display_name": "Python 3",
   "language": "python",
   "name": "python3"
  },
  "language_info": {
   "codemirror_mode": {
    "name": "ipython",
    "version": 3
   },
   "file_extension": ".py",
   "mimetype": "text/x-python",
   "name": "python",
   "nbconvert_exporter": "python",
   "pygments_lexer": "ipython3",
   "version": "3.6.5"
  }
 },
 "nbformat": 4,
 "nbformat_minor": 2
}
