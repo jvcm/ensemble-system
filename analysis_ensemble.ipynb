{
 "cells": [
  {
   "cell_type": "code",
   "execution_count": 1,
   "metadata": {},
   "outputs": [],
   "source": [
    "import numpy as np\n",
    "import pandas as pd\n",
    "import matplotlib.pyplot as plt\n",
    "import seaborn as sns\n",
    "sns.set()\n",
    "\n",
    "from matplotlib.pylab import rcParams\n",
    "from sklearn.preprocessing import StandardScaler\n",
    "from collections import Counter\n",
    "from imblearn.over_sampling import SMOTE "
   ]
  },
  {
   "cell_type": "markdown",
   "metadata": {},
   "source": [
    "# DataSet"
   ]
  },
  {
   "cell_type": "markdown",
   "metadata": {},
   "source": [
    "## Attribute Information"
   ]
  },
  {
   "cell_type": "markdown",
   "metadata": {},
   "source": [
    "Atributes:<br>\n",
    "```\n",
    "Paragraph\n",
    "```"
   ]
  },
  {
   "cell_type": "markdown",
   "metadata": {},
   "source": [
    "## Pre Processing"
   ]
  },
  {
   "cell_type": "code",
   "execution_count": 77,
   "metadata": {},
   "outputs": [],
   "source": [
    "data = pd.read_csv('cm1.csv')\n",
    "# data = pd.read_csv('kc1.csv')"
   ]
  },
  {
   "cell_type": "code",
   "execution_count": 78,
   "metadata": {},
   "outputs": [
    {
     "data": {
      "text/html": [
       "<div>\n",
       "<style scoped>\n",
       "    .dataframe tbody tr th:only-of-type {\n",
       "        vertical-align: middle;\n",
       "    }\n",
       "\n",
       "    .dataframe tbody tr th {\n",
       "        vertical-align: top;\n",
       "    }\n",
       "\n",
       "    .dataframe thead th {\n",
       "        text-align: right;\n",
       "    }\n",
       "</style>\n",
       "<table border=\"1\" class=\"dataframe\">\n",
       "  <thead>\n",
       "    <tr style=\"text-align: right;\">\n",
       "      <th></th>\n",
       "      <th>1</th>\n",
       "      <th>2</th>\n",
       "      <th>3</th>\n",
       "      <th>4</th>\n",
       "      <th>5</th>\n",
       "      <th>6</th>\n",
       "      <th>7</th>\n",
       "      <th>8</th>\n",
       "      <th>9</th>\n",
       "      <th>10</th>\n",
       "      <th>...</th>\n",
       "      <th>13</th>\n",
       "      <th>14</th>\n",
       "      <th>15</th>\n",
       "      <th>16</th>\n",
       "      <th>17</th>\n",
       "      <th>18</th>\n",
       "      <th>19</th>\n",
       "      <th>20</th>\n",
       "      <th>21</th>\n",
       "      <th>Class</th>\n",
       "    </tr>\n",
       "  </thead>\n",
       "  <tbody>\n",
       "    <tr>\n",
       "      <th>0</th>\n",
       "      <td>1.1</td>\n",
       "      <td>1.4</td>\n",
       "      <td>1.4</td>\n",
       "      <td>1.4</td>\n",
       "      <td>1.3</td>\n",
       "      <td>1.30</td>\n",
       "      <td>1.30</td>\n",
       "      <td>1.30</td>\n",
       "      <td>1.30</td>\n",
       "      <td>1.30</td>\n",
       "      <td>...</td>\n",
       "      <td>2</td>\n",
       "      <td>2</td>\n",
       "      <td>2</td>\n",
       "      <td>2</td>\n",
       "      <td>1.2</td>\n",
       "      <td>1.2</td>\n",
       "      <td>1.2</td>\n",
       "      <td>1.2</td>\n",
       "      <td>1.4</td>\n",
       "      <td>False</td>\n",
       "    </tr>\n",
       "    <tr>\n",
       "      <th>1</th>\n",
       "      <td>1.0</td>\n",
       "      <td>1.0</td>\n",
       "      <td>1.0</td>\n",
       "      <td>1.0</td>\n",
       "      <td>1.0</td>\n",
       "      <td>1.00</td>\n",
       "      <td>1.00</td>\n",
       "      <td>1.00</td>\n",
       "      <td>1.00</td>\n",
       "      <td>1.00</td>\n",
       "      <td>...</td>\n",
       "      <td>1</td>\n",
       "      <td>1</td>\n",
       "      <td>1</td>\n",
       "      <td>1</td>\n",
       "      <td>1.0</td>\n",
       "      <td>1.0</td>\n",
       "      <td>1.0</td>\n",
       "      <td>1.0</td>\n",
       "      <td>1.0</td>\n",
       "      <td>True</td>\n",
       "    </tr>\n",
       "    <tr>\n",
       "      <th>2</th>\n",
       "      <td>24.0</td>\n",
       "      <td>5.0</td>\n",
       "      <td>1.0</td>\n",
       "      <td>3.0</td>\n",
       "      <td>63.0</td>\n",
       "      <td>309.13</td>\n",
       "      <td>0.11</td>\n",
       "      <td>9.50</td>\n",
       "      <td>32.54</td>\n",
       "      <td>2936.77</td>\n",
       "      <td>...</td>\n",
       "      <td>1</td>\n",
       "      <td>0</td>\n",
       "      <td>6</td>\n",
       "      <td>0</td>\n",
       "      <td>15.0</td>\n",
       "      <td>15.0</td>\n",
       "      <td>44.0</td>\n",
       "      <td>19.0</td>\n",
       "      <td>9.0</td>\n",
       "      <td>False</td>\n",
       "    </tr>\n",
       "    <tr>\n",
       "      <th>3</th>\n",
       "      <td>20.0</td>\n",
       "      <td>4.0</td>\n",
       "      <td>4.0</td>\n",
       "      <td>2.0</td>\n",
       "      <td>47.0</td>\n",
       "      <td>215.49</td>\n",
       "      <td>0.06</td>\n",
       "      <td>16.00</td>\n",
       "      <td>13.47</td>\n",
       "      <td>3447.89</td>\n",
       "      <td>...</td>\n",
       "      <td>0</td>\n",
       "      <td>0</td>\n",
       "      <td>3</td>\n",
       "      <td>0</td>\n",
       "      <td>16.0</td>\n",
       "      <td>8.0</td>\n",
       "      <td>31.0</td>\n",
       "      <td>16.0</td>\n",
       "      <td>7.0</td>\n",
       "      <td>False</td>\n",
       "    </tr>\n",
       "    <tr>\n",
       "      <th>4</th>\n",
       "      <td>24.0</td>\n",
       "      <td>6.0</td>\n",
       "      <td>6.0</td>\n",
       "      <td>2.0</td>\n",
       "      <td>72.0</td>\n",
       "      <td>346.13</td>\n",
       "      <td>0.06</td>\n",
       "      <td>17.33</td>\n",
       "      <td>19.97</td>\n",
       "      <td>5999.58</td>\n",
       "      <td>...</td>\n",
       "      <td>0</td>\n",
       "      <td>0</td>\n",
       "      <td>3</td>\n",
       "      <td>0</td>\n",
       "      <td>16.0</td>\n",
       "      <td>12.0</td>\n",
       "      <td>46.0</td>\n",
       "      <td>26.0</td>\n",
       "      <td>11.0</td>\n",
       "      <td>False</td>\n",
       "    </tr>\n",
       "  </tbody>\n",
       "</table>\n",
       "<p>5 rows × 22 columns</p>\n",
       "</div>"
      ],
      "text/plain": [
       "      1    2    3    4     5       6     7      8      9       10  ...    13  \\\n",
       "0   1.1  1.4  1.4  1.4   1.3    1.30  1.30   1.30   1.30     1.30  ...     2   \n",
       "1   1.0  1.0  1.0  1.0   1.0    1.00  1.00   1.00   1.00     1.00  ...     1   \n",
       "2  24.0  5.0  1.0  3.0  63.0  309.13  0.11   9.50  32.54  2936.77  ...     1   \n",
       "3  20.0  4.0  4.0  2.0  47.0  215.49  0.06  16.00  13.47  3447.89  ...     0   \n",
       "4  24.0  6.0  6.0  2.0  72.0  346.13  0.06  17.33  19.97  5999.58  ...     0   \n",
       "\n",
       "   14  15  16    17    18    19    20    21  Class  \n",
       "0   2   2   2   1.2   1.2   1.2   1.2   1.4  False  \n",
       "1   1   1   1   1.0   1.0   1.0   1.0   1.0   True  \n",
       "2   0   6   0  15.0  15.0  44.0  19.0   9.0  False  \n",
       "3   0   3   0  16.0   8.0  31.0  16.0   7.0  False  \n",
       "4   0   3   0  16.0  12.0  46.0  26.0  11.0  False  \n",
       "\n",
       "[5 rows x 22 columns]"
      ]
     },
     "execution_count": 78,
     "metadata": {},
     "output_type": "execute_result"
    }
   ],
   "source": [
    "data.head()"
   ]
  },
  {
   "cell_type": "code",
   "execution_count": 79,
   "metadata": {},
   "outputs": [],
   "source": [
    "from sklearn.preprocessing import LabelEncoder\n",
    "encoder = LabelEncoder()\n",
    "data.Class = encoder.fit_transform(data.Class)"
   ]
  },
  {
   "cell_type": "markdown",
   "metadata": {},
   "source": [
    "## Over-Sampling imbalanced data"
   ]
  },
  {
   "cell_type": "code",
   "execution_count": 80,
   "metadata": {},
   "outputs": [
    {
     "name": "stdout",
     "output_type": "stream",
     "text": [
      "Original dataset shape Counter({0: 449, 1: 49})\n"
     ]
    }
   ],
   "source": [
    "X = data.iloc[:, :-1].values\n",
    "y = data.Class.values\n",
    "print('Original dataset shape {}'.format(Counter(y)))"
   ]
  },
  {
   "cell_type": "code",
   "execution_count": 81,
   "metadata": {},
   "outputs": [
    {
     "name": "stdout",
     "output_type": "stream",
     "text": [
      "Resampled dataset shape Counter({0: 449, 1: 449})\n"
     ]
    }
   ],
   "source": [
    "sm = SMOTE(random_state=42)\n",
    "X, y = sm.fit_sample(X, y)\n",
    "print('Resampled dataset shape {}'.format(Counter(y)))"
   ]
  },
  {
   "cell_type": "code",
   "execution_count": 82,
   "metadata": {},
   "outputs": [],
   "source": [
    "sc_X = StandardScaler()\n",
    "X = sc_X.fit_transform(X)"
   ]
  },
  {
   "cell_type": "markdown",
   "metadata": {},
   "source": [
    "# Bagging & Random Subspace"
   ]
  },
  {
   "cell_type": "code",
   "execution_count": 83,
   "metadata": {},
   "outputs": [],
   "source": [
    "from sklearn.model_selection import cross_val_score\n",
    "from sklearn.ensemble import BaggingClassifier\n",
    "from sklearn.tree import DecisionTreeClassifier\n",
    "from sklearn.linear_model import Perceptron\n",
    "from sklearn.metrics import roc_auc_score\n",
    "from imblearn.metrics import geometric_mean_score\n",
    "from sklearn.metrics import f1_score"
   ]
  },
  {
   "cell_type": "code",
   "execution_count": 84,
   "metadata": {},
   "outputs": [],
   "source": [
    "rcParams['figure.figsize'] = 12, 3"
   ]
  },
  {
   "cell_type": "code",
   "execution_count": 85,
   "metadata": {},
   "outputs": [],
   "source": [
    "from sklearn.model_selection import StratifiedKFold"
   ]
  },
  {
   "cell_type": "code",
   "execution_count": 86,
   "metadata": {},
   "outputs": [],
   "source": [
    "def Generate_Analysis(X, y):\n",
    "    name1 = ['Bagging', 'Random Subspace']\n",
    "    name2 = ['Árvores de Decisão', 'Perceptron']\n",
    "    pos = ['lower left', 'upper right']\n",
    "    features = [1.0, 0.5]\n",
    "    models = [DecisionTreeClassifier(), Perceptron(tol = 0.0001, max_iter = 10000)]\n",
    "    sizes = [1.0, 0.9, 0.8, 0.7, 0.6, 0.5]\n",
    "    for f, feature in enumerate(features):\n",
    "        for m, model in enumerate(models):\n",
    "            skf = StratifiedKFold(n_splits=10, random_state=42, shuffle=True)\n",
    "            metrics = np.zeros((len(sizes), 4))\n",
    "            for train_index, test_index in skf.split(X, y):\n",
    "                X_train, X_test = X[train_index], X[test_index]\n",
    "                y_train, y_test = y[train_index], y[test_index]\n",
    "                for i, size in enumerate(sizes):\n",
    "                    # All data points\n",
    "                    bg = BaggingClassifier(model,\n",
    "                                             max_samples = size,\n",
    "                                             max_features = feature,\n",
    "                                             n_estimators = 100,\n",
    "                                             random_state = 42)\n",
    "                    bg.fit(X_train, y_train)\n",
    "                    y_pred = bg.predict(X_test)\n",
    "                    metrics[i, :] += [bg.score(X_test, y_test),\n",
    "                        roc_auc_score(y_test, bg.predict_proba(X_test)[:,1]),\n",
    "                          geometric_mean_score(y_test, y_pred),\n",
    "                          f1_score(y_test, y_pred)]\n",
    "            metrics = metrics / skf.n_splits\n",
    "                       \n",
    "            barWidth = 0.1\n",
    "            # Set position of bar on X axis\n",
    "            r1 = np.arange(metrics.shape[0])\n",
    "            r2 = [x + barWidth for x in r1]\n",
    "            r3 = [x + barWidth for x in r2]\n",
    "            r4 = [x + barWidth for x in r3]\n",
    "\n",
    "            # Make the plot\n",
    "            plt.bar(r1, metrics[:, 0], width=barWidth, edgecolor='white', label='Acurácia')\n",
    "            plt.bar(r2, metrics[:, 1], width=barWidth, edgecolor='white', label='AUC')\n",
    "            plt.bar(r3, metrics[:, 2], width=barWidth, edgecolor='white', label='G-Mean')\n",
    "            plt.bar(r4, metrics[:, 3], width=barWidth, edgecolor='white', label='F-Measure')\n",
    "\n",
    "            # Add xticks on the middle of the group bars\n",
    "            plt.ylim([0.6, 1.01])\n",
    "            plt.xlabel('Porcentagem de dados no treinamento')\n",
    "            plt.ylabel('Escore')\n",
    "            plt.xticks([r + barWidth for r in range(metrics.shape[0])], ['100%', '90%', '80%', '70%', '60%', '50%'])\n",
    "\n",
    "            # Create legend & Show graphic\n",
    "            plt.legend(loc = pos[m])\n",
    "            plt.title(name1[f]+ ' - '+ name2[m])\n",
    "            plt.show()\n",
    "            \n",
    "            df = pd.DataFrame(data = metrics, index = sizes, columns = ['Acurácia', 'AUC', 'G-Mean', 'F-Measure'])\n",
    "            print(df)"
   ]
  },
  {
   "cell_type": "code",
   "execution_count": 87,
   "metadata": {},
   "outputs": [
    {
     "data": {
      "image/png": "[encoded data removed]",
      "text/plain": [
       "<Figure size 864x216 with 1 Axes>"
      ]
     },
     "metadata": {
      "needs_background": "light"
     },
     "output_type": "display_data"
    },
    {
     "name": "stdout",
     "output_type": "stream",
     "text": [
      "     Acurácia       AUC    G-Mean  F-Measure\n",
      "1.0  0.933157  0.986749  0.931867   0.935868\n",
      "0.9  0.931995  0.987335  0.930661   0.934903\n",
      "0.8  0.930934  0.986230  0.929516   0.933741\n",
      "0.7  0.929798  0.984185  0.928216   0.933067\n",
      "0.6  0.927576  0.984595  0.925802   0.931095\n",
      "0.5  0.930909  0.983911  0.929407   0.934061\n"
     ]
    },
    {
     "data": {
      "image/png": "[encoded data removed]",
      "text/plain": [
       "<Figure size 864x216 with 1 Axes>"
      ]
     },
     "metadata": {
      "needs_background": "light"
     },
     "output_type": "display_data"
    },
    {
     "name": "stdout",
     "output_type": "stream",
     "text": [
      "     Acurácia       AUC    G-Mean  F-Measure\n",
      "1.0  0.785152  0.850444  0.783393   0.780129\n",
      "0.9  0.781793  0.850059  0.779628   0.775942\n",
      "0.8  0.788460  0.849351  0.786826   0.783717\n",
      "0.7  0.785126  0.847946  0.782594   0.778204\n",
      "0.6  0.777273  0.846981  0.774907   0.771879\n",
      "0.5  0.779545  0.849004  0.776797   0.772983\n"
     ]
    },
    {
     "data": {
      "image/png": "[encoded data removed]",
      "text/plain": [
       "<Figure size 864x216 with 1 Axes>"
      ]
     },
     "metadata": {
      "needs_background": "light"
     },
     "output_type": "display_data"
    },
    {
     "name": "stdout",
     "output_type": "stream",
     "text": [
      "     Acurácia       AUC    G-Mean  F-Measure\n",
      "1.0  0.942096  0.991613  0.941392   0.943788\n",
      "0.9  0.942096  0.991469  0.941208   0.944016\n",
      "0.8  0.942071  0.991166  0.941358   0.944007\n",
      "0.7  0.942096  0.990323  0.941419   0.943890\n",
      "0.6  0.938712  0.988177  0.937708   0.941099\n",
      "0.5  0.933157  0.986994  0.931919   0.935848\n"
     ]
    },
    {
     "data": {
      "image/png": "[encoded data removed]",
      "text/plain": [
       "<Figure size 864x216 with 1 Axes>"
      ]
     },
     "metadata": {
      "needs_background": "light"
     },
     "output_type": "display_data"
    },
    {
     "name": "stdout",
     "output_type": "stream",
     "text": [
      "     Acurácia       AUC    G-Mean  F-Measure\n",
      "1.0  0.763990  0.838998  0.761123   0.756073\n",
      "0.9  0.775101  0.840426  0.772158   0.768145\n",
      "0.8  0.771717  0.842984  0.768769   0.764983\n",
      "0.7  0.756212  0.838306  0.751787   0.745869\n",
      "0.6  0.766237  0.839242  0.763450   0.759561\n",
      "0.5  0.761717  0.832929  0.758314   0.755770\n"
     ]
    }
   ],
   "source": [
    "Generate_Analysis(X,y)"
   ]
  },
  {
   "cell_type": "code",
   "execution_count": null,
   "metadata": {},
   "outputs": [],
   "source": []
  }
 ],
 "metadata": {
  "kernelspec": {
   "display_name": "Python 3",
   "language": "python",
   "name": "python3"
  },
  "language_info": {
   "codemirror_mode": {
    "name": "ipython",
    "version": 3
   },
   "file_extension": ".py",
   "mimetype": "text/x-python",
   "name": "python",
   "nbconvert_exporter": "python",
   "pygments_lexer": "ipython3",
   "version": "3.6.5"
  }
 },
 "nbformat": 4,
 "nbformat_minor": 2
}
