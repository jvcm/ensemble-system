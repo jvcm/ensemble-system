{
 "cells": [
  {
   "cell_type": "code",
   "execution_count": 1,
   "metadata": {},
   "outputs": [],
   "source": [
    "import numpy as np\n",
    "import pandas as pd\n",
    "import matplotlib.pyplot as plt\n",
    "import seaborn as sns\n",
    "sns.set()\n",
    "\n",
    "from matplotlib.pylab import rcParams\n",
    "from sklearn.preprocessing import StandardScaler\n",
    "from collections import Counter\n",
    "from imblearn.over_sampling import SMOTE "
   ]
  },
  {
   "cell_type": "markdown",
   "metadata": {},
   "source": [
    "# DataSet"
   ]
  },
  {
   "cell_type": "markdown",
   "metadata": {},
   "source": [
    "## Attribute Information"
   ]
  },
  {
   "cell_type": "markdown",
   "metadata": {},
   "source": [
    "Atributes:<br>\n",
    "```\n",
    "Paragraph\n",
    "```"
   ]
  },
  {
   "cell_type": "markdown",
   "metadata": {},
   "source": [
    "## Pre Processing"
   ]
  },
  {
   "cell_type": "code",
   "execution_count": 55,
   "metadata": {},
   "outputs": [],
   "source": [
    "# data = pd.read_csv('cm1.csv')\n",
    "data = pd.read_csv('kc1.csv')"
   ]
  },
  {
   "cell_type": "code",
   "execution_count": 56,
   "metadata": {},
   "outputs": [
    {
     "data": {
      "text/html": [
       "<div>\n",
       "<style scoped>\n",
       "    .dataframe tbody tr th:only-of-type {\n",
       "        vertical-align: middle;\n",
       "    }\n",
       "\n",
       "    .dataframe tbody tr th {\n",
       "        vertical-align: top;\n",
       "    }\n",
       "\n",
       "    .dataframe thead th {\n",
       "        text-align: right;\n",
       "    }\n",
       "</style>\n",
       "<table border=\"1\" class=\"dataframe\">\n",
       "  <thead>\n",
       "    <tr style=\"text-align: right;\">\n",
       "      <th></th>\n",
       "      <th>1</th>\n",
       "      <th>2</th>\n",
       "      <th>3</th>\n",
       "      <th>4</th>\n",
       "      <th>5</th>\n",
       "      <th>6</th>\n",
       "      <th>7</th>\n",
       "      <th>8</th>\n",
       "      <th>9</th>\n",
       "      <th>10</th>\n",
       "      <th>...</th>\n",
       "      <th>13</th>\n",
       "      <th>14</th>\n",
       "      <th>15</th>\n",
       "      <th>16</th>\n",
       "      <th>17</th>\n",
       "      <th>18</th>\n",
       "      <th>19</th>\n",
       "      <th>20</th>\n",
       "      <th>21</th>\n",
       "      <th>Class</th>\n",
       "    </tr>\n",
       "  </thead>\n",
       "  <tbody>\n",
       "    <tr>\n",
       "      <th>0</th>\n",
       "      <td>1.1</td>\n",
       "      <td>1.4</td>\n",
       "      <td>1.4</td>\n",
       "      <td>1.4</td>\n",
       "      <td>1.3</td>\n",
       "      <td>1.30</td>\n",
       "      <td>1.30</td>\n",
       "      <td>1.30</td>\n",
       "      <td>1.30</td>\n",
       "      <td>1.30</td>\n",
       "      <td>...</td>\n",
       "      <td>2</td>\n",
       "      <td>2</td>\n",
       "      <td>2</td>\n",
       "      <td>2</td>\n",
       "      <td>1.2</td>\n",
       "      <td>1.2</td>\n",
       "      <td>1.2</td>\n",
       "      <td>1.2</td>\n",
       "      <td>1.4</td>\n",
       "      <td>False</td>\n",
       "    </tr>\n",
       "    <tr>\n",
       "      <th>1</th>\n",
       "      <td>1.0</td>\n",
       "      <td>1.0</td>\n",
       "      <td>1.0</td>\n",
       "      <td>1.0</td>\n",
       "      <td>1.0</td>\n",
       "      <td>1.00</td>\n",
       "      <td>1.00</td>\n",
       "      <td>1.00</td>\n",
       "      <td>1.00</td>\n",
       "      <td>1.00</td>\n",
       "      <td>...</td>\n",
       "      <td>1</td>\n",
       "      <td>1</td>\n",
       "      <td>1</td>\n",
       "      <td>1</td>\n",
       "      <td>1.0</td>\n",
       "      <td>1.0</td>\n",
       "      <td>1.0</td>\n",
       "      <td>1.0</td>\n",
       "      <td>1.0</td>\n",
       "      <td>True</td>\n",
       "    </tr>\n",
       "    <tr>\n",
       "      <th>2</th>\n",
       "      <td>83.0</td>\n",
       "      <td>11.0</td>\n",
       "      <td>1.0</td>\n",
       "      <td>11.0</td>\n",
       "      <td>171.0</td>\n",
       "      <td>927.89</td>\n",
       "      <td>0.04</td>\n",
       "      <td>23.04</td>\n",
       "      <td>40.27</td>\n",
       "      <td>21378.61</td>\n",
       "      <td>...</td>\n",
       "      <td>65</td>\n",
       "      <td>10</td>\n",
       "      <td>6</td>\n",
       "      <td>0</td>\n",
       "      <td>18.0</td>\n",
       "      <td>25.0</td>\n",
       "      <td>107.0</td>\n",
       "      <td>64.0</td>\n",
       "      <td>21.0</td>\n",
       "      <td>True</td>\n",
       "    </tr>\n",
       "    <tr>\n",
       "      <th>3</th>\n",
       "      <td>46.0</td>\n",
       "      <td>8.0</td>\n",
       "      <td>6.0</td>\n",
       "      <td>8.0</td>\n",
       "      <td>141.0</td>\n",
       "      <td>769.78</td>\n",
       "      <td>0.07</td>\n",
       "      <td>14.86</td>\n",
       "      <td>51.81</td>\n",
       "      <td>11436.73</td>\n",
       "      <td>...</td>\n",
       "      <td>37</td>\n",
       "      <td>2</td>\n",
       "      <td>5</td>\n",
       "      <td>0</td>\n",
       "      <td>16.0</td>\n",
       "      <td>28.0</td>\n",
       "      <td>89.0</td>\n",
       "      <td>52.0</td>\n",
       "      <td>15.0</td>\n",
       "      <td>True</td>\n",
       "    </tr>\n",
       "    <tr>\n",
       "      <th>4</th>\n",
       "      <td>25.0</td>\n",
       "      <td>3.0</td>\n",
       "      <td>1.0</td>\n",
       "      <td>3.0</td>\n",
       "      <td>58.0</td>\n",
       "      <td>254.75</td>\n",
       "      <td>0.11</td>\n",
       "      <td>9.35</td>\n",
       "      <td>27.25</td>\n",
       "      <td>2381.95</td>\n",
       "      <td>...</td>\n",
       "      <td>21</td>\n",
       "      <td>0</td>\n",
       "      <td>2</td>\n",
       "      <td>0</td>\n",
       "      <td>11.0</td>\n",
       "      <td>10.0</td>\n",
       "      <td>41.0</td>\n",
       "      <td>17.0</td>\n",
       "      <td>5.0</td>\n",
       "      <td>True</td>\n",
       "    </tr>\n",
       "  </tbody>\n",
       "</table>\n",
       "<p>5 rows × 22 columns</p>\n",
       "</div>"
      ],
      "text/plain": [
       "      1     2    3     4      5       6     7      8      9        10  ...    \\\n",
       "0   1.1   1.4  1.4   1.4    1.3    1.30  1.30   1.30   1.30      1.30  ...     \n",
       "1   1.0   1.0  1.0   1.0    1.0    1.00  1.00   1.00   1.00      1.00  ...     \n",
       "2  83.0  11.0  1.0  11.0  171.0  927.89  0.04  23.04  40.27  21378.61  ...     \n",
       "3  46.0   8.0  6.0   8.0  141.0  769.78  0.07  14.86  51.81  11436.73  ...     \n",
       "4  25.0   3.0  1.0   3.0   58.0  254.75  0.11   9.35  27.25   2381.95  ...     \n",
       "\n",
       "   13  14  15  16    17    18     19    20    21  Class  \n",
       "0   2   2   2   2   1.2   1.2    1.2   1.2   1.4  False  \n",
       "1   1   1   1   1   1.0   1.0    1.0   1.0   1.0   True  \n",
       "2  65  10   6   0  18.0  25.0  107.0  64.0  21.0   True  \n",
       "3  37   2   5   0  16.0  28.0   89.0  52.0  15.0   True  \n",
       "4  21   0   2   0  11.0  10.0   41.0  17.0   5.0   True  \n",
       "\n",
       "[5 rows x 22 columns]"
      ]
     },
     "execution_count": 56,
     "metadata": {},
     "output_type": "execute_result"
    }
   ],
   "source": [
    "data.head()"
   ]
  },
  {
   "cell_type": "code",
   "execution_count": 57,
   "metadata": {},
   "outputs": [],
   "source": [
    "from sklearn.preprocessing import LabelEncoder\n",
    "encoder = LabelEncoder()\n",
    "data.Class = encoder.fit_transform(data.Class)"
   ]
  },
  {
   "cell_type": "markdown",
   "metadata": {},
   "source": [
    "## Over-Sampling imbalanced data"
   ]
  },
  {
   "cell_type": "code",
   "execution_count": 58,
   "metadata": {},
   "outputs": [
    {
     "name": "stdout",
     "output_type": "stream",
     "text": [
      "Original dataset shape Counter({0: 1783, 1: 326})\n"
     ]
    }
   ],
   "source": [
    "X = data.iloc[:, :-1].values\n",
    "y = data.Class.values\n",
    "print('Original dataset shape {}'.format(Counter(y)))"
   ]
  },
  {
   "cell_type": "code",
   "execution_count": 59,
   "metadata": {},
   "outputs": [
    {
     "name": "stdout",
     "output_type": "stream",
     "text": [
      "Resampled dataset shape Counter({0: 1783, 1: 1783})\n"
     ]
    }
   ],
   "source": [
    "sm = SMOTE(random_state=42)\n",
    "X, y = sm.fit_sample(X, y)\n",
    "print('Resampled dataset shape {}'.format(Counter(y)))"
   ]
  },
  {
   "cell_type": "code",
   "execution_count": 60,
   "metadata": {},
   "outputs": [],
   "source": [
    "sc_X = StandardScaler()\n",
    "X = sc_X.fit_transform(X)"
   ]
  },
  {
   "cell_type": "markdown",
   "metadata": {},
   "source": [
    "# Bagging & Random Subspace"
   ]
  },
  {
   "cell_type": "code",
   "execution_count": 61,
   "metadata": {},
   "outputs": [],
   "source": [
    "from sklearn.model_selection import cross_val_score\n",
    "from sklearn.ensemble import BaggingClassifier\n",
    "from sklearn.tree import DecisionTreeClassifier\n",
    "from sklearn.linear_model import Perceptron\n",
    "from sklearn.metrics import roc_auc_score\n",
    "from imblearn.metrics import geometric_mean_score\n",
    "from sklearn.metrics import f1_score"
   ]
  },
  {
   "cell_type": "code",
   "execution_count": 62,
   "metadata": {},
   "outputs": [],
   "source": [
    "rcParams['figure.figsize'] = 12, 3"
   ]
  },
  {
   "cell_type": "code",
   "execution_count": 63,
   "metadata": {},
   "outputs": [],
   "source": [
    "from sklearn.model_selection import StratifiedKFold"
   ]
  },
  {
   "cell_type": "code",
   "execution_count": 75,
   "metadata": {},
   "outputs": [],
   "source": [
    "def Generate_Analysis(X, y):\n",
    "    name1 = ['Bagging', 'Random Subspace']\n",
    "    name2 = ['Árvores de Decisão', 'Perceptron']\n",
    "    pos = ['lower left', 'upper right']\n",
    "    features = [1.0, 0.5]\n",
    "    models = [DecisionTreeClassifier(), Perceptron(tol = 0.0001, max_iter = 10000)]\n",
    "    sizes = [1.0, 0.9, 0.8, 0.7, 0.6, 0.5]\n",
    "    for f, feature in enumerate(features):\n",
    "        for m, model in enumerate(models):\n",
    "            skf = StratifiedKFold(n_splits=10, random_state=42, shuffle=True)\n",
    "            metrics = np.zeros((len(sizes), 4))\n",
    "            for train_index, test_index in skf.split(X, y):\n",
    "                X_train, X_test = X[train_index], X[test_index]\n",
    "                y_train, y_test = y[train_index], y[test_index]\n",
    "                for i, size in enumerate(sizes):\n",
    "                    # All data points\n",
    "                    bg = BaggingClassifier(model,\n",
    "                                             max_samples = size,\n",
    "                                             max_features = feature,\n",
    "                                             n_estimators = 100,\n",
    "                                             random_state = 42)\n",
    "                    bg.fit(X_train, y_train)\n",
    "                    y_pred = bg.predict(X_test)\n",
    "                    metrics[i, :] += [bg.score(X_test, y_test),\n",
    "                        roc_auc_score(y_test, bg.predict_proba(X_test)[:,1]),\n",
    "                          geometric_mean_score(y_test, y_pred),\n",
    "                          f1_score(y_test, y_pred)]\n",
    "            metrics = metrics / skf.n_splits\n",
    "                       \n",
    "            barWidth = 0.1\n",
    "            # Set position of bar on X axis\n",
    "            r1 = np.arange(metrics.shape[0])\n",
    "            r2 = [x + barWidth for x in r1]\n",
    "            r3 = [x + barWidth for x in r2]\n",
    "            r4 = [x + barWidth for x in r3]\n",
    "\n",
    "            # Make the plot\n",
    "            plt.bar(r1, metrics[:, 0], width=barWidth, edgecolor='white', label='Acurácia')\n",
    "            plt.bar(r2, metrics[:, 1], width=barWidth, edgecolor='white', label='AUC')\n",
    "            plt.bar(r3, metrics[:, 2], width=barWidth, edgecolor='white', label='G-Mean')\n",
    "            plt.bar(r4, metrics[:, 3], width=barWidth, edgecolor='white', label='F-Measure')\n",
    "\n",
    "            # Add xticks on the middle of the group bars\n",
    "            plt.ylim([0.6, 1.01])\n",
    "            plt.xlabel('Porcentagem de dados no treinamento')\n",
    "            plt.ylabel('Escore')\n",
    "            plt.xticks([r + barWidth for r in range(metrics.shape[0])], ['100%', '90%', '80%', '70%', '60%', '50%'])\n",
    "\n",
    "            # Create legend & Show graphic\n",
    "            plt.legend(loc = pos[m])\n",
    "            plt.title(name1[f]+ ' - '+ name2[m])\n",
    "            plt.show()\n",
    "            \n",
    "            df = pd.DataFrame(data = metrics, index = sizes, columns = ['Acurácia', 'AUC', 'G-Mean', 'F-Measure'])\n",
    "            print(df)"
   ]
  },
  {
   "cell_type": "code",
   "execution_count": 76,
   "metadata": {},
   "outputs": [
    {
     "data": {
      "image/png": "[encoded data removed]",
      "text/plain": [
       "<Figure size 864x216 with 1 Axes>"
      ]
     },
     "metadata": {
      "needs_background": "light"
     },
     "output_type": "display_data"
    },
    {
     "name": "stdout",
     "output_type": "stream",
     "text": [
      "     Acurácia       AUC    G-Mean  F-Measure\n",
      "1.0  0.908862  0.965063  0.908780   0.908556\n",
      "0.9  0.909985  0.965487  0.909930   0.909788\n",
      "0.8  0.907451  0.966216  0.907400   0.907427\n",
      "0.7  0.906061  0.965693  0.905964   0.905932\n",
      "0.6  0.909987  0.964940  0.909903   0.909868\n",
      "0.5  0.904377  0.964115  0.904261   0.904140\n"
     ]
    },
    {
     "data": {
      "image/png": "[encoded data removed]",
      "text/plain": [
       "<Figure size 864x216 with 1 Axes>"
      ]
     },
     "metadata": {
      "needs_background": "light"
     },
     "output_type": "display_data"
    },
    {
     "name": "stdout",
     "output_type": "stream",
     "text": [
      "     Acurácia       AUC    G-Mean  F-Measure\n",
      "1.0  0.724903  0.796942  0.724256   0.719326\n",
      "0.9  0.725742  0.798267  0.723967   0.716275\n",
      "0.8  0.724341  0.798523  0.723412   0.717636\n",
      "0.7  0.715365  0.794208  0.713324   0.707367\n",
      "0.6  0.718167  0.797098  0.716314   0.706154\n",
      "0.5  0.720976  0.798924  0.718673   0.711861\n"
     ]
    },
    {
     "data": {
      "image/png": "[encoded data removed]",
      "text/plain": [
       "<Figure size 864x216 with 1 Axes>"
      ]
     },
     "metadata": {
      "needs_background": "light"
     },
     "output_type": "display_data"
    },
    {
     "name": "stdout",
     "output_type": "stream",
     "text": [
      "     Acurácia       AUC    G-Mean  F-Measure\n",
      "1.0  0.920925  0.971119  0.920776   0.920862\n",
      "0.9  0.917287  0.970737  0.917178   0.917297\n",
      "0.8  0.918397  0.970172  0.918319   0.918547\n",
      "0.7  0.916997  0.969312  0.916826   0.917273\n",
      "0.6  0.914476  0.968214  0.914305   0.914603\n",
      "0.5  0.909982  0.967108  0.909830   0.910251\n"
     ]
    },
    {
     "data": {
      "image/png": "[encoded data removed]",
      "text/plain": [
       "<Figure size 864x216 with 1 Axes>"
      ]
     },
     "metadata": {
      "needs_background": "light"
     },
     "output_type": "display_data"
    },
    {
     "name": "stdout",
     "output_type": "stream",
     "text": [
      "     Acurácia       AUC    G-Mean  F-Measure\n",
      "1.0  0.713409  0.794860  0.711461   0.699530\n",
      "0.9  0.715660  0.797167  0.714162   0.704836\n",
      "0.8  0.711448  0.794069  0.708787   0.697721\n",
      "0.7  0.710327  0.797277  0.708030   0.695157\n",
      "0.6  0.709212  0.797895  0.706553   0.693726\n",
      "0.5  0.710888  0.796428  0.707465   0.691266\n"
     ]
    }
   ],
   "source": [
    "Generate_Analysis(X,y)"
   ]
  },
  {
   "cell_type": "code",
   "execution_count": null,
   "metadata": {},
   "outputs": [],
   "source": []
  }
 ],
 "metadata": {
  "kernelspec": {
   "display_name": "Python 3",
   "language": "python",
   "name": "python3"
  },
  "language_info": {
   "codemirror_mode": {
    "name": "ipython",
    "version": 3
   },
   "file_extension": ".py",
   "mimetype": "text/x-python",
   "name": "python",
   "nbconvert_exporter": "python",
   "pygments_lexer": "ipython3",
   "version": "3.6.5"
  }
 },
 "nbformat": 4,
 "nbformat_minor": 2
}
