{
 "cells": [
  {
   "cell_type": "code",
   "execution_count": 18,
   "metadata": {},
   "outputs": [],
   "source": [
    "import pandas as pd\n",
    "import numpy as np\n",
    "from sklearn.ensemble import BaggingClassifier\n",
    "from imblearn.metrics import geometric_mean_score\n",
    "from sklearn.model_selection import StratifiedKFold\n",
    "from prune import reduce_error_GM\n",
    "from sklearn.metrics import roc_auc_score"
   ]
  },
  {
   "cell_type": "code",
   "execution_count": 2,
   "metadata": {},
   "outputs": [],
   "source": [
    "data = pd.read_csv('../cm1.csv')\n",
    "X = data.iloc[:, :-1].values\n",
    "y = data.iloc[:, -1]. values"
   ]
  },
  {
   "cell_type": "code",
   "execution_count": 9,
   "metadata": {},
   "outputs": [],
   "source": [
    "bagging = BaggingClassifier(n_estimators= 100)"
   ]
  },
  {
   "cell_type": "code",
   "execution_count": 33,
   "metadata": {},
   "outputs": [
    {
     "name": "stderr",
     "output_type": "stream",
     "text": [
      "/home/CIN/jvcm/mcsenv/lib/python3.6/site-packages/scipy/stats/stats.py:313: RuntimeWarning: divide by zero encountered in log\n",
      "  log_a = np.log(a)\n"
     ]
    },
    {
     "name": "stdout",
     "output_type": "stream",
     "text": [
      "Base Ensemble -> AUC: 0.4777777777777778 G-Mean: 0.0\n",
      "Pruned Ensemble -> AUC: 0.49444444444444446 G-Mean: 0.298142396999972\n",
      "----------------------------------------------------\n",
      "Base Ensemble -> AUC: 0.5277777777777779 G-Mean: 0.3091206165165235\n"
     ]
    },
    {
     "name": "stderr",
     "output_type": "stream",
     "text": [
      "/home/CIN/jvcm/mcsenv/lib/python3.6/site-packages/scipy/stats/stats.py:313: RuntimeWarning: divide by zero encountered in log\n",
      "  log_a = np.log(a)\n"
     ]
    },
    {
     "name": "stdout",
     "output_type": "stream",
     "text": [
      "Pruned Ensemble -> AUC: 0.45555555555555555 G-Mean: 0.0\n",
      "----------------------------------------------------\n"
     ]
    },
    {
     "name": "stderr",
     "output_type": "stream",
     "text": [
      "/home/CIN/jvcm/mcsenv/lib/python3.6/site-packages/scipy/stats/stats.py:313: RuntimeWarning: divide by zero encountered in log\n",
      "  log_a = np.log(a)\n"
     ]
    },
    {
     "name": "stdout",
     "output_type": "stream",
     "text": [
      "Base Ensemble -> AUC: 0.5 G-Mean: 0.0\n",
      "Pruned Ensemble -> AUC: 0.49444444444444446 G-Mean: 0.298142396999972\n",
      "----------------------------------------------------\n",
      "Base Ensemble -> AUC: 0.5888888888888889 G-Mean: 0.4422166387140533\n",
      "Pruned Ensemble -> AUC: 0.5888888888888889 G-Mean: 0.4422166387140533\n",
      "----------------------------------------------------\n"
     ]
    },
    {
     "name": "stderr",
     "output_type": "stream",
     "text": [
      "/home/CIN/jvcm/mcsenv/lib/python3.6/site-packages/scipy/stats/stats.py:313: RuntimeWarning: divide by zero encountered in log\n",
      "  log_a = np.log(a)\n"
     ]
    },
    {
     "name": "stdout",
     "output_type": "stream",
     "text": [
      "Base Ensemble -> AUC: 0.4943820224719101 G-Mean: 0.0\n",
      "Pruned Ensemble -> AUC: 0.6554307116104868 G-Mean: 0.5708263279047432\n",
      "----------------------------------------------------\n"
     ]
    }
   ],
   "source": [
    "skf = StratifiedKFold(n_splits=5)\n",
    "for train_index, test_index in skf.split(X, y):\n",
    "    X_train, X_test = X[train_index], X[test_index]\n",
    "    y_train, y_test = y[train_index], y[test_index]\n",
    "    bagging.fit(X_train, y_train)\n",
    "    print('Base Ensemble -> AUC:', roc_auc_score(y_test, bagging.predict(X_test)), 'G-Mean:',geometric_mean_score(y_test, bagging.predict(X_test)))\n",
    "    estim = reduce_error_GM(bagging, X_train, y_train)\n",
    "    bagging.estimators_ = estim\n",
    "    print('Pruned Ensemble -> AUC:', roc_auc_score(y_test, bagging.predict(X_test)), 'G-Mean:',geometric_mean_score(y_test, bagging.predict(X_test)))\n",
    "    print('----------------------------------------------------')"
   ]
  },
  {
   "cell_type": "code",
   "execution_count": null,
   "metadata": {},
   "outputs": [],
   "source": []
  }
 ],
 "metadata": {
  "kernelspec": {
   "display_name": "Python 3",
   "language": "python",
   "name": "python3"
  },
  "language_info": {
   "codemirror_mode": {
    "name": "ipython",
    "version": 3
   },
   "file_extension": ".py",
   "mimetype": "text/x-python",
   "name": "python",
   "nbconvert_exporter": "python",
   "pygments_lexer": "ipython3",
   "version": "3.6.5"
  }
 },
 "nbformat": 4,
 "nbformat_minor": 2
}
